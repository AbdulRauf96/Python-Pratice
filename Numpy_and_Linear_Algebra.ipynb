{
  "nbformat": 4,
  "nbformat_minor": 0,
  "metadata": {
    "colab": {
      "name": "Numpy and Linear Algebra.ipynb",
      "provenance": [],
      "toc_visible": true,
      "authorship_tag": "ABX9TyPXhwLgZ2kytJnJu1QYvNYW",
      "include_colab_link": true
    },
    "kernelspec": {
      "name": "python3",
      "display_name": "Python 3"
    },
    "language_info": {
      "name": "python"
    }
  },
  "cells": [
    {
      "cell_type": "markdown",
      "metadata": {
        "id": "view-in-github",
        "colab_type": "text"
      },
      "source": [
        "<a href=\"https://colab.research.google.com/github/AbdulRauf96/Python-Pratice/blob/main/Numpy_and_Linear_Algebra.ipynb\" target=\"_parent\"><img src=\"https://colab.research.google.com/assets/colab-badge.svg\" alt=\"Open In Colab\"/></a>"
      ]
    },
    {
      "cell_type": "markdown",
      "source": [
        "#NumPy and Linear Algebra\n",
        "\n",
        "This notebook contains explains of NumPy functions and matrix calculations that can be performed using this package"
      ],
      "metadata": {
        "id": "GcdVicoJ7aIt"
      }
    },
    {
      "cell_type": "markdown",
      "source": [
        "#### Basic NumPy Array and Matrix creation"
      ],
      "metadata": {
        "id": "HxKZH4WI7sNe"
      }
    },
    {
      "cell_type": "code",
      "execution_count": null,
      "metadata": {
        "id": "Wldn2YqFphV8"
      },
      "outputs": [],
      "source": [
        "import numpy as np"
      ]
    },
    {
      "cell_type": "code",
      "source": [
        "#Create an array with specific data type\n",
        "np.array([1,2,3], dtype=int)"
      ],
      "metadata": {
        "colab": {
          "base_uri": "https://localhost:8080/"
        },
        "id": "XybuC3-GpnB8",
        "outputId": "6d398aef-00d0-45a6-9eb0-443938d83282"
      },
      "execution_count": null,
      "outputs": [
        {
          "output_type": "execute_result",
          "data": {
            "text/plain": [
              "array([1, 2, 3])"
            ]
          },
          "metadata": {},
          "execution_count": 298
        }
      ]
    },
    {
      "cell_type": "code",
      "source": [
        "#Create an array with boolean\n",
        "np.array([1,0,1,0], dtype=bool)"
      ],
      "metadata": {
        "colab": {
          "base_uri": "https://localhost:8080/"
        },
        "id": "T1EwHGqkqJf5",
        "outputId": "a2485ce7-e143-497e-84b6-2f559d0bab03"
      },
      "execution_count": null,
      "outputs": [
        {
          "output_type": "execute_result",
          "data": {
            "text/plain": [
              "array([ True, False,  True, False])"
            ]
          },
          "metadata": {},
          "execution_count": 299
        }
      ]
    },
    {
      "cell_type": "code",
      "source": [
        "#Create an array with specific range\n",
        "np.arange(10)"
      ],
      "metadata": {
        "colab": {
          "base_uri": "https://localhost:8080/"
        },
        "id": "tB_rnk0VqN6j",
        "outputId": "f25b1646-b355-4f1f-ae10-208a969b5386"
      },
      "execution_count": null,
      "outputs": [
        {
          "output_type": "execute_result",
          "data": {
            "text/plain": [
              "array([0, 1, 2, 3, 4, 5, 6, 7, 8, 9])"
            ]
          },
          "metadata": {},
          "execution_count": 300
        }
      ]
    },
    {
      "cell_type": "code",
      "source": [
        "#Specify the range and how big the step is\n",
        "np.arange(1,100, 5)"
      ],
      "metadata": {
        "id": "zFo9akKsqQuq",
        "outputId": "1d76652e-c50a-42f3-ddd1-8e21c4613e9a",
        "colab": {
          "base_uri": "https://localhost:8080/"
        }
      },
      "execution_count": null,
      "outputs": [
        {
          "output_type": "execute_result",
          "data": {
            "text/plain": [
              "array([ 1,  6, 11, 16, 21, 26, 31, 36, 41, 46, 51, 56, 61, 66, 71, 76, 81,\n",
              "       86, 91, 96])"
            ]
          },
          "metadata": {},
          "execution_count": 301
        }
      ]
    },
    {
      "cell_type": "code",
      "source": [
        "#Create an array in specific range with specific number of elements\n",
        "np.linspace(0, 1, 10)"
      ],
      "metadata": {
        "colab": {
          "base_uri": "https://localhost:8080/"
        },
        "id": "_lGUzmQerKRU",
        "outputId": "4e621061-9a01-412a-e075-a4de755434ee"
      },
      "execution_count": null,
      "outputs": [
        {
          "output_type": "execute_result",
          "data": {
            "text/plain": [
              "array([0.        , 0.11111111, 0.22222222, 0.33333333, 0.44444444,\n",
              "       0.55555556, 0.66666667, 0.77777778, 0.88888889, 1.        ])"
            ]
          },
          "metadata": {},
          "execution_count": 302
        }
      ]
    },
    {
      "cell_type": "markdown",
      "source": [
        "### Matrix\n",
        "\n",
        "This section we will create a:\n",
        "\n",
        "1. an empty/zeros/ones matrix\n",
        "2. an identity matrix\n",
        "3. a diagonal matrix\n",
        "4. a random matrix with the specified range, dimension, and datatype\n",
        "5. a copy of a matrix with the same dimension but different elements"
      ],
      "metadata": {
        "id": "CJJvHH8ZrYSK"
      }
    },
    {
      "cell_type": "code",
      "source": [
        "#Create an empty matrix\n",
        "np.empty((3,3))"
      ],
      "metadata": {
        "colab": {
          "base_uri": "https://localhost:8080/"
        },
        "id": "0FcM6yjzrVM6",
        "outputId": "e1dc0db9-cb96-48eb-dcf7-78f19e9e523f"
      },
      "execution_count": null,
      "outputs": [
        {
          "output_type": "execute_result",
          "data": {
            "text/plain": [
              "array([[0.11111111, 0.22222222, 0.33333333],\n",
              "       [0.44444444, 0.55555556, 0.66666667],\n",
              "       [0.77777778, 0.88888889, 1.        ]])"
            ]
          },
          "metadata": {},
          "execution_count": 303
        }
      ]
    },
    {
      "cell_type": "code",
      "source": [
        "#Create an array with 0 elements\n",
        "np.zeros((3,3))"
      ],
      "metadata": {
        "colab": {
          "base_uri": "https://localhost:8080/"
        },
        "id": "t2mm6lU4r67-",
        "outputId": "ea063048-18d9-4f03-b65e-4777598f7867"
      },
      "execution_count": null,
      "outputs": [
        {
          "output_type": "execute_result",
          "data": {
            "text/plain": [
              "array([[0., 0., 0.],\n",
              "       [0., 0., 0.],\n",
              "       [0., 0., 0.]])"
            ]
          },
          "metadata": {},
          "execution_count": 304
        }
      ]
    },
    {
      "cell_type": "code",
      "source": [
        "np.ones((4,4))"
      ],
      "metadata": {
        "colab": {
          "base_uri": "https://localhost:8080/"
        },
        "id": "owdXXL1Dr9xq",
        "outputId": "d679aa03-d75a-4508-b403-95ec250da842"
      },
      "execution_count": null,
      "outputs": [
        {
          "output_type": "execute_result",
          "data": {
            "text/plain": [
              "array([[1., 1., 1., 1.],\n",
              "       [1., 1., 1., 1.],\n",
              "       [1., 1., 1., 1.],\n",
              "       [1., 1., 1., 1.]])"
            ]
          },
          "metadata": {},
          "execution_count": 305
        }
      ]
    },
    {
      "cell_type": "code",
      "source": [
        "#Create the matrix filled with specified elements\n",
        "np.full((3,3), 5)"
      ],
      "metadata": {
        "colab": {
          "base_uri": "https://localhost:8080/"
        },
        "id": "_i3l1lp6sJnC",
        "outputId": "8fddb092-cfe3-41be-dc27-d5cbe854aacf"
      },
      "execution_count": null,
      "outputs": [
        {
          "output_type": "execute_result",
          "data": {
            "text/plain": [
              "array([[5, 5, 5],\n",
              "       [5, 5, 5],\n",
              "       [5, 5, 5]])"
            ]
          },
          "metadata": {},
          "execution_count": 306
        }
      ]
    },
    {
      "cell_type": "code",
      "source": [
        "#Create an identity matrix with dimension 3\n",
        "np.eye(3)"
      ],
      "metadata": {
        "colab": {
          "base_uri": "https://localhost:8080/"
        },
        "id": "SGxNoXD3sON7",
        "outputId": "51b453a3-4513-4ffc-c64b-e8f14e2bdd85"
      },
      "execution_count": null,
      "outputs": [
        {
          "output_type": "execute_result",
          "data": {
            "text/plain": [
              "array([[1., 0., 0.],\n",
              "       [0., 1., 0.],\n",
              "       [0., 0., 1.]])"
            ]
          },
          "metadata": {},
          "execution_count": 307
        }
      ]
    },
    {
      "cell_type": "code",
      "source": [
        "#Create a diagonal matrix with diagonal elements specified in the array x\n",
        "x = [1,2,3]\n",
        "np.diag(x)"
      ],
      "metadata": {
        "colab": {
          "base_uri": "https://localhost:8080/"
        },
        "id": "_FHTkkmAsYeW",
        "outputId": "2da4c203-988f-4df0-e891-98a763f2fecc"
      },
      "execution_count": null,
      "outputs": [
        {
          "output_type": "execute_result",
          "data": {
            "text/plain": [
              "array([[1, 0, 0],\n",
              "       [0, 2, 0],\n",
              "       [0, 0, 3]])"
            ]
          },
          "metadata": {},
          "execution_count": 308
        }
      ]
    },
    {
      "cell_type": "code",
      "source": [
        "#Create a matrix with random elements between 0 and 1\n",
        "np.random.random((3,3))"
      ],
      "metadata": {
        "colab": {
          "base_uri": "https://localhost:8080/"
        },
        "id": "5H9BlKknsdqJ",
        "outputId": "2993158f-4289-4bac-9b57-ef22cc1292c5"
      },
      "execution_count": null,
      "outputs": [
        {
          "output_type": "execute_result",
          "data": {
            "text/plain": [
              "array([[0.29934842, 0.13350963, 0.50485988],\n",
              "       [0.66862584, 0.9818822 , 0.42632167],\n",
              "       [0.69855038, 0.3842606 , 0.15271532]])"
            ]
          },
          "metadata": {},
          "execution_count": 309
        }
      ]
    },
    {
      "cell_type": "code",
      "source": [
        "#Create a matrix with random float elements with a specific range\n",
        "np.random.normal(0, 10, (3,3))"
      ],
      "metadata": {
        "colab": {
          "base_uri": "https://localhost:8080/"
        },
        "id": "6Lp_slOJsjek",
        "outputId": "9bfa11f3-2ec4-48a0-8e7c-8b380ee4cb90"
      },
      "execution_count": null,
      "outputs": [
        {
          "output_type": "execute_result",
          "data": {
            "text/plain": [
              "array([[  2.68576037,   6.36184279,   6.2559436 ],\n",
              "       [  3.72237516,  20.25639523,   8.86785008],\n",
              "       [  2.94864183,  -2.59759294, -14.78966953]])"
            ]
          },
          "metadata": {},
          "execution_count": 310
        }
      ]
    },
    {
      "cell_type": "code",
      "source": [
        "#Create a matrix with random integer elements with a specific range\n",
        "np.random.randint(0,10, (3,3))"
      ],
      "metadata": {
        "colab": {
          "base_uri": "https://localhost:8080/"
        },
        "id": "xYqNTRjhtatj",
        "outputId": "054646f4-22bb-44d4-9385-db3305f4126e"
      },
      "execution_count": null,
      "outputs": [
        {
          "output_type": "execute_result",
          "data": {
            "text/plain": [
              "array([[2, 4, 0],\n",
              "       [3, 4, 3],\n",
              "       [1, 7, 2]])"
            ]
          },
          "metadata": {},
          "execution_count": 311
        }
      ]
    },
    {
      "cell_type": "code",
      "source": [
        "#Create the matrix with the same dimension but different elements\n",
        "A = np.zeros((10,10))\n",
        "B = np.full_like(A,fill_value = 5)\n",
        "B"
      ],
      "metadata": {
        "colab": {
          "base_uri": "https://localhost:8080/"
        },
        "id": "gz0HYENotfIY",
        "outputId": "f27ce5c8-3e29-421e-fbcb-a7a4963ab195"
      },
      "execution_count": null,
      "outputs": [
        {
          "output_type": "execute_result",
          "data": {
            "text/plain": [
              "array([[5., 5., 5., 5., 5., 5., 5., 5., 5., 5.],\n",
              "       [5., 5., 5., 5., 5., 5., 5., 5., 5., 5.],\n",
              "       [5., 5., 5., 5., 5., 5., 5., 5., 5., 5.],\n",
              "       [5., 5., 5., 5., 5., 5., 5., 5., 5., 5.],\n",
              "       [5., 5., 5., 5., 5., 5., 5., 5., 5., 5.],\n",
              "       [5., 5., 5., 5., 5., 5., 5., 5., 5., 5.],\n",
              "       [5., 5., 5., 5., 5., 5., 5., 5., 5., 5.],\n",
              "       [5., 5., 5., 5., 5., 5., 5., 5., 5., 5.],\n",
              "       [5., 5., 5., 5., 5., 5., 5., 5., 5., 5.],\n",
              "       [5., 5., 5., 5., 5., 5., 5., 5., 5., 5.]])"
            ]
          },
          "metadata": {},
          "execution_count": 312
        }
      ]
    },
    {
      "cell_type": "markdown",
      "source": [
        "### Operations on matrices\n",
        "\n",
        "This section we will create a:\n",
        "\n",
        "1. Perform element-wise multiplication and matrix multiplication\n",
        "2. Find the transpose of a matrix (an operator that switches the rows and 3. columns)\n",
        "3. Find the trace of a matrix (the sum of the diagonal elements)\n",
        "4. Reshape the matrix\n",
        "5. Find the slice of a matrix with boolean arrays"
      ],
      "metadata": {
        "id": "wSpp9uLMwMUg"
      }
    },
    {
      "cell_type": "code",
      "source": [
        "B = np.array([[1, 3, 4], [3, 2, 1]], dtype= float)\n",
        "A = np.array([[4,5,6],[7,8,9]], dtype=float)\n",
        "\n",
        "display(A)\n",
        "B * A\n",
        "B + A"
      ],
      "metadata": {
        "colab": {
          "base_uri": "https://localhost:8080/"
        },
        "id": "Thm1f-iouOFJ",
        "outputId": "6549822d-c159-4a95-ee44-2c45e4d8bb69"
      },
      "execution_count": null,
      "outputs": [
        {
          "output_type": "display_data",
          "data": {
            "text/plain": [
              "array([[4., 5., 6.],\n",
              "       [7., 8., 9.]])"
            ]
          },
          "metadata": {}
        },
        {
          "output_type": "execute_result",
          "data": {
            "text/plain": [
              "array([[ 5.,  8., 10.],\n",
              "       [10., 10., 10.]])"
            ]
          },
          "metadata": {},
          "execution_count": 313
        }
      ]
    },
    {
      "cell_type": "code",
      "source": [
        "C = np.array([[1,2,3],[4,5,6],[7,8,9]], dtype = float); print(C)\n",
        "D = np.array([[4],[5],[6]], dtype=float); print(D)\n",
        "display(A@ C)\n",
        "np.dot(A,C)\n",
        "# C.shape"
      ],
      "metadata": {
        "colab": {
          "base_uri": "https://localhost:8080/"
        },
        "id": "zOD8CAlmwzpf",
        "outputId": "e3ac0f3e-90b6-4764-a308-6bf88144bd1f"
      },
      "execution_count": null,
      "outputs": [
        {
          "output_type": "stream",
          "name": "stdout",
          "text": [
            "[[1. 2. 3.]\n",
            " [4. 5. 6.]\n",
            " [7. 8. 9.]]\n",
            "[[4.]\n",
            " [5.]\n",
            " [6.]]\n"
          ]
        },
        {
          "output_type": "display_data",
          "data": {
            "text/plain": [
              "array([[ 66.,  81.,  96.],\n",
              "       [102., 126., 150.]])"
            ]
          },
          "metadata": {}
        },
        {
          "output_type": "execute_result",
          "data": {
            "text/plain": [
              "array([[ 66.,  81.,  96.],\n",
              "       [102., 126., 150.]])"
            ]
          },
          "metadata": {},
          "execution_count": 314
        }
      ]
    },
    {
      "cell_type": "code",
      "source": [
        "#Find the transpose of a matrix\n",
        "#Transpose: Columns become rows and rows become columns\n",
        "A.T"
      ],
      "metadata": {
        "colab": {
          "base_uri": "https://localhost:8080/"
        },
        "id": "nIsbQsb_0Mj0",
        "outputId": "820acfbf-95f3-45fe-92d1-a3fa73ea3c85"
      },
      "execution_count": null,
      "outputs": [
        {
          "output_type": "execute_result",
          "data": {
            "text/plain": [
              "array([[4., 7.],\n",
              "       [5., 8.],\n",
              "       [6., 9.]])"
            ]
          },
          "metadata": {},
          "execution_count": 315
        }
      ]
    },
    {
      "cell_type": "code",
      "source": [
        "#reshape the array\n",
        "np.arange(10).reshape((5,2))"
      ],
      "metadata": {
        "colab": {
          "base_uri": "https://localhost:8080/"
        },
        "id": "KoOEzYC20pXh",
        "outputId": "14661cf4-cc6d-4bc0-f0a2-40dd83d4e6b8"
      },
      "execution_count": null,
      "outputs": [
        {
          "output_type": "execute_result",
          "data": {
            "text/plain": [
              "array([[0, 1],\n",
              "       [2, 3],\n",
              "       [4, 5],\n",
              "       [6, 7],\n",
              "       [8, 9]])"
            ]
          },
          "metadata": {},
          "execution_count": 316
        }
      ]
    },
    {
      "cell_type": "code",
      "source": [
        "#Return the sum along the diagonals of the array\n",
        "np.trace(A)"
      ],
      "metadata": {
        "colab": {
          "base_uri": "https://localhost:8080/"
        },
        "id": "86N-TcNv4BSR",
        "outputId": "1f01b9bc-f454-4260-b50c-39e7a43dae7a"
      },
      "execution_count": null,
      "outputs": [
        {
          "output_type": "execute_result",
          "data": {
            "text/plain": [
              "12.0"
            ]
          },
          "metadata": {},
          "execution_count": 317
        }
      ]
    },
    {
      "cell_type": "code",
      "source": [
        "# a.T * y (1xn * nx1)\n",
        "a = np.arange(5); display(a)\n",
        "b = np.arange(5); display(b)\n",
        "\n",
        "\n",
        "#this returns a scaler\n",
        "np.dot(a,b)"
      ],
      "metadata": {
        "colab": {
          "base_uri": "https://localhost:8080/"
        },
        "id": "WnFS07PX4EWB",
        "outputId": "8edcd8f6-89fd-418e-ddd5-a3ba82c5cd9c"
      },
      "execution_count": null,
      "outputs": [
        {
          "output_type": "display_data",
          "data": {
            "text/plain": [
              "array([0, 1, 2, 3, 4])"
            ]
          },
          "metadata": {}
        },
        {
          "output_type": "display_data",
          "data": {
            "text/plain": [
              "array([0, 1, 2, 3, 4])"
            ]
          },
          "metadata": {}
        },
        {
          "output_type": "execute_result",
          "data": {
            "text/plain": [
              "30"
            ]
          },
          "metadata": {},
          "execution_count": 318
        }
      ]
    },
    {
      "cell_type": "code",
      "source": [
        "# a * y.T  (nx1 * 1*n)\n",
        "#this returns a matrix nxn\n",
        "np.outer(a,b)"
      ],
      "metadata": {
        "colab": {
          "base_uri": "https://localhost:8080/"
        },
        "id": "WBP-IBC36RkY",
        "outputId": "305aad4c-bccc-4067-c1ed-2570839e21a6"
      },
      "execution_count": null,
      "outputs": [
        {
          "output_type": "execute_result",
          "data": {
            "text/plain": [
              "array([[ 0,  0,  0,  0,  0],\n",
              "       [ 0,  1,  2,  3,  4],\n",
              "       [ 0,  2,  4,  6,  8],\n",
              "       [ 0,  3,  6,  9, 12],\n",
              "       [ 0,  4,  8, 12, 16]])"
            ]
          },
          "metadata": {},
          "execution_count": 319
        }
      ]
    },
    {
      "cell_type": "code",
      "source": [
        "#Use boolean to return a specific row\n",
        "A[[True, False],[True,False,True]]"
      ],
      "metadata": {
        "colab": {
          "base_uri": "https://localhost:8080/"
        },
        "id": "-OWbV1mC6Y7y",
        "outputId": "ed2221c4-d702-4fca-8dee-d5cb9a78cc4e"
      },
      "execution_count": null,
      "outputs": [
        {
          "output_type": "execute_result",
          "data": {
            "text/plain": [
              "array([4., 6.])"
            ]
          },
          "metadata": {},
          "execution_count": 320
        }
      ]
    },
    {
      "cell_type": "code",
      "source": [
        "#Add a row\n",
        "np.append(A, [[4,7,9]], axis=0)\n",
        "\n",
        "#Add a column\n",
        "\n",
        "np.append(A, [[6],[1]],axis=1)"
      ],
      "metadata": {
        "colab": {
          "base_uri": "https://localhost:8080/"
        },
        "id": "bFFKGBYSWzre",
        "outputId": "c7237221-a322-4bcc-ddb6-51704d6812e6"
      },
      "execution_count": null,
      "outputs": [
        {
          "output_type": "execute_result",
          "data": {
            "text/plain": [
              "array([[4., 5., 6., 6.],\n",
              "       [7., 8., 9., 1.]])"
            ]
          },
          "metadata": {},
          "execution_count": 321
        }
      ]
    },
    {
      "cell_type": "code",
      "source": [
        "#function to select certain value\n",
        "print(A)\n",
        "A[[0],[2]]\n",
        "\n",
        "def select_mtrx(mtrx,row,column):\n",
        "  x = mtrx[[row],column]\n",
        "  return x\n",
        "\n",
        "select_mtrx(A,0,1)"
      ],
      "metadata": {
        "colab": {
          "base_uri": "https://localhost:8080/"
        },
        "id": "D6bzLUdbWzxr",
        "outputId": "a1c59654-8ca0-4136-c74a-c86708cdcf37"
      },
      "execution_count": null,
      "outputs": [
        {
          "output_type": "stream",
          "name": "stdout",
          "text": [
            "[[4. 5. 6.]\n",
            " [7. 8. 9.]]\n"
          ]
        },
        {
          "output_type": "execute_result",
          "data": {
            "text/plain": [
              "array([5.])"
            ]
          },
          "metadata": {},
          "execution_count": 322
        }
      ]
    },
    {
      "cell_type": "markdown",
      "source": [
        "### Linear Algebra\n",
        "\n",
        "This section shows us how to:\n",
        "\n",
        "1. Solve the system of linear equations\n",
        "2. Find the inverse of a matrix\n",
        "3. Find matrix norm\n",
        "4. Compute Single Value Decomposition and eigenvalues"
      ],
      "metadata": {
        "id": "SJEUOBbDEfFV"
      }
    },
    {
      "cell_type": "code",
      "source": [
        "#Solve the system of equations 3 * x0 + x1 = 9 and x0 + 2 * x1 = 8:\n",
        "\n",
        "a = np.array([[3,1], [1,2]])\n",
        "b = np.array([9,8])\n",
        "x = np.linalg.solve(a, b)\n",
        "x"
      ],
      "metadata": {
        "colab": {
          "base_uri": "https://localhost:8080/"
        },
        "id": "YLH6TlSgEs3H",
        "outputId": "647317c9-81cd-4374-e68a-471311a02654"
      },
      "execution_count": null,
      "outputs": [
        {
          "output_type": "execute_result",
          "data": {
            "text/plain": [
              "array([2., 3.])"
            ]
          },
          "metadata": {},
          "execution_count": 323
        }
      ]
    },
    {
      "cell_type": "code",
      "source": [
        "#Compute the inverse of a matrix\n",
        "np.linalg.pinv(A)\n",
        "\n",
        "#Manual calculation for inverse of a matrix\n",
        "#Inverse of A is A_1 only when AA_1 = I where\n",
        "I = np.eye(3,3); print(I)\n",
        "print(A) \n"
      ],
      "metadata": {
        "colab": {
          "base_uri": "https://localhost:8080/"
        },
        "id": "GeauqJEVFB6O",
        "outputId": "60c171a0-a5cb-46fa-dfa3-38761db8c2b0"
      },
      "execution_count": null,
      "outputs": [
        {
          "output_type": "stream",
          "name": "stdout",
          "text": [
            "[[1. 0. 0.]\n",
            " [0. 1. 0.]\n",
            " [0. 0. 1.]]\n",
            "[[4. 5. 6.]\n",
            " [7. 8. 9.]]\n"
          ]
        }
      ]
    },
    {
      "cell_type": "code",
      "source": [
        "#Return matrix norm\n",
        "np.linalg.norm(A)"
      ],
      "metadata": {
        "colab": {
          "base_uri": "https://localhost:8080/"
        },
        "id": "uD1m_IYAU80W",
        "outputId": "5012b0cb-7c81-4956-a99f-507858649104"
      },
      "execution_count": null,
      "outputs": [
        {
          "output_type": "execute_result",
          "data": {
            "text/plain": [
              "16.46207763315433"
            ]
          },
          "metadata": {},
          "execution_count": 325
        }
      ]
    },
    {
      "cell_type": "code",
      "source": [
        "#Single Value Decomposition\n",
        "# Link to understand Singular Value Decomposition: https://towardsdatascience.com/understanding-singular-value-decomposition-and-its-application-in-data-science-388a54be95d\n",
        "U, S, V = np.linalg.svd(A)\n",
        "\n",
        "U"
      ],
      "metadata": {
        "colab": {
          "base_uri": "https://localhost:8080/"
        },
        "id": "FHzQBN10XcTa",
        "outputId": "c91f47ce-f124-412f-8962-7183d7b5005f"
      },
      "execution_count": null,
      "outputs": [
        {
          "output_type": "execute_result",
          "data": {
            "text/plain": [
              "array([[-0.53274261, -0.84627732],\n",
              "       [-0.84627732,  0.53274261]])"
            ]
          },
          "metadata": {},
          "execution_count": 326
        }
      ]
    },
    {
      "cell_type": "code",
      "source": [
        "A = np.arange(9).reshape(3,3)\n",
        "\n",
        "#Find eigenvalues on square matrix\n",
        "np.linalg.eig(A)"
      ],
      "metadata": {
        "colab": {
          "base_uri": "https://localhost:8080/"
        },
        "id": "Eii73KExavtk",
        "outputId": "8d02da05-d5d0-4c07-9257-cea6bab61ef2"
      },
      "execution_count": null,
      "outputs": [
        {
          "output_type": "execute_result",
          "data": {
            "text/plain": [
              "(array([ 1.33484692e+01, -1.34846923e+00, -2.48477279e-16]),\n",
              " array([[ 0.16476382,  0.79969966,  0.40824829],\n",
              "        [ 0.50577448,  0.10420579, -0.81649658],\n",
              "        [ 0.84678513, -0.59128809,  0.40824829]]))"
            ]
          },
          "metadata": {},
          "execution_count": 327
        }
      ]
    },
    {
      "cell_type": "markdown",
      "source": [
        "### Common Calculations in Data Science\n",
        "\n",
        "This section shows us how to: \n",
        "\n",
        "1. Flatten a matrix\n",
        "2. Reshape the matrix\n",
        "3. Change the type of elements\n",
        "4. Concatenate 2 matrices\n",
        "5. Create a copy of A with a specified range\n",
        "6. Add the elements in the same rows or columns to create a new vector\n",
        "7. Shuffle the elements in the array"
      ],
      "metadata": {
        "id": "uklz2JlZ8J9r"
      }
    },
    {
      "cell_type": "code",
      "source": [
        "#Flatten a matrix by row\n",
        "A.flatten()"
      ],
      "metadata": {
        "id": "mMa4L3vH8k_Y",
        "colab": {
          "base_uri": "https://localhost:8080/"
        },
        "outputId": "134d7a83-a264-480a-de0f-b3786be5502d"
      },
      "execution_count": null,
      "outputs": [
        {
          "output_type": "execute_result",
          "data": {
            "text/plain": [
              "array([0, 1, 2, 3, 4, 5, 6, 7, 8])"
            ]
          },
          "metadata": {},
          "execution_count": 328
        }
      ]
    },
    {
      "cell_type": "code",
      "source": [
        "#Flatten a matrix by column\n",
        "A = A.flatten(order='F')\n",
        "A"
      ],
      "metadata": {
        "colab": {
          "base_uri": "https://localhost:8080/"
        },
        "id": "csu-GvRF9qxV",
        "outputId": "8444abd7-7f50-4733-f83a-96c6e78cda1a"
      },
      "execution_count": null,
      "outputs": [
        {
          "output_type": "execute_result",
          "data": {
            "text/plain": [
              "array([0, 3, 6, 1, 4, 7, 2, 5, 8])"
            ]
          },
          "metadata": {},
          "execution_count": 329
        }
      ]
    },
    {
      "cell_type": "code",
      "source": [
        "#Reshape the flattened matrix\n",
        "A = A.reshape((3,3))\n",
        "A"
      ],
      "metadata": {
        "colab": {
          "base_uri": "https://localhost:8080/"
        },
        "id": "6pN4Mtcc9y-O",
        "outputId": "1a4b8870-793c-42ee-de99-19a817c4eca1"
      },
      "execution_count": null,
      "outputs": [
        {
          "output_type": "execute_result",
          "data": {
            "text/plain": [
              "array([[0, 3, 6],\n",
              "       [1, 4, 7],\n",
              "       [2, 5, 8]])"
            ]
          },
          "metadata": {},
          "execution_count": 330
        }
      ]
    },
    {
      "cell_type": "code",
      "source": [
        "#Change the type of the elements\n",
        "A.astype(float)"
      ],
      "metadata": {
        "colab": {
          "base_uri": "https://localhost:8080/"
        },
        "id": "-pAibIFx-Ju6",
        "outputId": "66bf7677-f389-4332-84c0-01201844a790"
      },
      "execution_count": null,
      "outputs": [
        {
          "output_type": "execute_result",
          "data": {
            "text/plain": [
              "array([[0., 3., 6.],\n",
              "       [1., 4., 7.],\n",
              "       [2., 5., 8.]])"
            ]
          },
          "metadata": {},
          "execution_count": 331
        }
      ]
    },
    {
      "cell_type": "code",
      "source": [
        "#Create a copy of A\n",
        "newA = np.copy(A)\n",
        "newA"
      ],
      "metadata": {
        "colab": {
          "base_uri": "https://localhost:8080/"
        },
        "id": "UHypU0TL-QIo",
        "outputId": "9be87969-0ad8-46ff-9f9f-928292720f36"
      },
      "execution_count": null,
      "outputs": [
        {
          "output_type": "execute_result",
          "data": {
            "text/plain": [
              "array([[0, 3, 6],\n",
              "       [1, 4, 7],\n",
              "       [2, 5, 8]])"
            ]
          },
          "metadata": {},
          "execution_count": 332
        }
      ]
    },
    {
      "cell_type": "code",
      "source": [
        "B.reshape(2,3)"
      ],
      "metadata": {
        "colab": {
          "base_uri": "https://localhost:8080/"
        },
        "id": "064dB3u2-StJ",
        "outputId": "5246ef97-9c86-41b9-eb7b-2a82795b5703"
      },
      "execution_count": null,
      "outputs": [
        {
          "output_type": "execute_result",
          "data": {
            "text/plain": [
              "array([[1., 3., 4.],\n",
              "       [3., 2., 1.]])"
            ]
          },
          "metadata": {},
          "execution_count": 333
        }
      ]
    },
    {
      "cell_type": "code",
      "source": [
        "#Add the matrix B to columns of matrix A \n",
        "np.concatenate([A,B], axis = 0)"
      ],
      "metadata": {
        "colab": {
          "base_uri": "https://localhost:8080/"
        },
        "id": "cxX27673-aeI",
        "outputId": "ddab975c-c5b8-4f11-b3a6-de073b2c09e8"
      },
      "execution_count": null,
      "outputs": [
        {
          "output_type": "execute_result",
          "data": {
            "text/plain": [
              "array([[0., 3., 6.],\n",
              "       [1., 4., 7.],\n",
              "       [2., 5., 8.],\n",
              "       [1., 3., 4.],\n",
              "       [3., 2., 1.]])"
            ]
          },
          "metadata": {},
          "execution_count": 334
        }
      ]
    },
    {
      "cell_type": "code",
      "source": [
        "#Create a copy of A with every entry in the matrix, the lowest is 0 and highest is 5\n",
        "#The element that does not satisfy the condition will become the lowest or highest value\n",
        "display(np.clip(A, 0.0, 5))\n",
        "display(newA)"
      ],
      "metadata": {
        "colab": {
          "base_uri": "https://localhost:8080/",
          "height": 121
        },
        "id": "uQXMjLVo_ZHq",
        "outputId": "dac21187-a279-4e90-8567-bc6549920ac8"
      },
      "execution_count": null,
      "outputs": [
        {
          "output_type": "display_data",
          "data": {
            "text/plain": [
              "array([[0., 3., 5.],\n",
              "       [1., 4., 5.],\n",
              "       [2., 5., 5.]])"
            ]
          },
          "metadata": {}
        },
        {
          "output_type": "display_data",
          "data": {
            "text/plain": [
              "array([[0, 3, 6],\n",
              "       [1, 4, 7],\n",
              "       [2, 5, 8]])"
            ]
          },
          "metadata": {}
        }
      ]
    },
    {
      "cell_type": "code",
      "source": [
        "#Add the elements in the same row to create a new vector\n",
        "display(A)\n",
        "np.sum(A, axis = 0)"
      ],
      "metadata": {
        "colab": {
          "base_uri": "https://localhost:8080/",
          "height": 86
        },
        "id": "d_-XKz6q_oLl",
        "outputId": "32ba14f7-2068-4fdf-9857-e356b61d9244"
      },
      "execution_count": null,
      "outputs": [
        {
          "output_type": "display_data",
          "data": {
            "text/plain": [
              "array([[0, 3, 6],\n",
              "       [1, 4, 7],\n",
              "       [2, 5, 8]])"
            ]
          },
          "metadata": {}
        },
        {
          "output_type": "execute_result",
          "data": {
            "text/plain": [
              "array([ 3, 12, 21])"
            ]
          },
          "metadata": {},
          "execution_count": 336
        }
      ]
    },
    {
      "cell_type": "code",
      "source": [
        "#Take the average the elements in the same row to create a new vector\n",
        "np.average(A, axis = 0)"
      ],
      "metadata": {
        "colab": {
          "base_uri": "https://localhost:8080/"
        },
        "id": "uQxDv4UpCJu0",
        "outputId": "bbbb873a-d353-43cb-ca07-61dfdf2df698"
      },
      "execution_count": null,
      "outputs": [
        {
          "output_type": "execute_result",
          "data": {
            "text/plain": [
              "array([1., 4., 7.])"
            ]
          },
          "metadata": {},
          "execution_count": 337
        }
      ]
    },
    {
      "cell_type": "code",
      "source": [
        "x = np.arange(9).reshape(3,3); print(x)"
      ],
      "metadata": {
        "colab": {
          "base_uri": "https://localhost:8080/"
        },
        "id": "ApLbHVUrCRQd",
        "outputId": "21ecad1e-564e-4e28-d30f-881562a37c68"
      },
      "execution_count": null,
      "outputs": [
        {
          "output_type": "stream",
          "name": "stdout",
          "text": [
            "[[0 1 2]\n",
            " [3 4 5]\n",
            " [6 7 8]]\n"
          ]
        }
      ]
    },
    {
      "cell_type": "code",
      "source": [
        "np.random.shuffle(x)\n",
        "x"
      ],
      "metadata": {
        "colab": {
          "base_uri": "https://localhost:8080/"
        },
        "id": "qbEH4beICu4G",
        "outputId": "34ff7996-190a-478b-9f84-54a533e70de4"
      },
      "execution_count": null,
      "outputs": [
        {
          "output_type": "execute_result",
          "data": {
            "text/plain": [
              "array([[6, 7, 8],\n",
              "       [3, 4, 5],\n",
              "       [0, 1, 2]])"
            ]
          },
          "metadata": {},
          "execution_count": 339
        }
      ]
    }
  ]
}