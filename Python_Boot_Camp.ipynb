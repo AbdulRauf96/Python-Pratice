{
  "nbformat": 4,
  "nbformat_minor": 0,
  "metadata": {
    "colab": {
      "name": "Python Boot-Camp",
      "provenance": [],
      "authorship_tag": "ABX9TyPqQhsZF+zhqDhoCEzTQoeY",
      "include_colab_link": true
    },
    "kernelspec": {
      "name": "python3",
      "display_name": "Python 3"
    },
    "language_info": {
      "name": "python"
    }
  },
  "cells": [
    {
      "cell_type": "markdown",
      "metadata": {
        "id": "view-in-github",
        "colab_type": "text"
      },
      "source": [
        "<a href=\"https://colab.research.google.com/github/AbdulRauf96/Python-Pratice/blob/main/Python_Boot_Camp.ipynb\" target=\"_parent\"><img src=\"https://colab.research.google.com/assets/colab-badge.svg\" alt=\"Open In Colab\"/></a>"
      ]
    },
    {
      "cell_type": "markdown",
      "source": [
        "# Python Boot-Camp\n",
        "\n",
        "This is a starter notebook to get a hang of some basic python functions and get started with coding. Here is an array of differnet functions that help you  get started with python. "
      ],
      "metadata": {
        "id": "CqX3voercP1l"
      }
    },
    {
      "cell_type": "markdown",
      "source": [
        "## Basics "
      ],
      "metadata": {
        "id": "0YmXG-cQnfd5"
      }
    },
    {
      "cell_type": "code",
      "execution_count": null,
      "metadata": {
        "colab": {
          "base_uri": "https://localhost:8080/"
        },
        "id": "Zi3vz3airXJH",
        "outputId": "de1d8cc6-4384-4a75-b5c8-bd09b841dab5"
      },
      "outputs": [
        {
          "output_type": "stream",
          "name": "stdout",
          "text": [
            "The result of 5%3 is 2\n",
            "The result of 5/3 is 2\n",
            "The result of 5*3 is 15\n"
          ]
        }
      ],
      "source": [
        "#Some arthimetic operation \n",
        "print('The result of 5%3 is {}'.format(5%3))\n",
        "print('The result of 5/3 is {}'.format(round(5/3)))\n",
        "print('The result of 5*3 is {}'.format(5*3))"
      ]
    },
    {
      "cell_type": "code",
      "source": [
        "#Storing values in variables\n",
        "spam = 40\n",
        "display(spam) #display acts like print here a substitute to see two results in one cell\n",
        "eggs = 2\n",
        "spam + eggs"
      ],
      "metadata": {
        "colab": {
          "base_uri": "https://localhost:8080/",
          "height": 52
        },
        "id": "oHZeznLSsgC3",
        "outputId": "ad70b1fc-91d9-4092-ebf9-6260ac0a89eb"
      },
      "execution_count": null,
      "outputs": [
        {
          "output_type": "display_data",
          "data": {
            "text/plain": [
              "40"
            ]
          },
          "metadata": {}
        },
        {
          "output_type": "execute_result",
          "data": {
            "text/plain": [
              "42"
            ]
          },
          "metadata": {},
          "execution_count": 4
        }
      ]
    },
    {
      "cell_type": "markdown",
      "source": [
        "### Print Function"
      ],
      "metadata": {
        "id": "blTWu69ZsqH9"
      }
    },
    {
      "cell_type": "code",
      "source": [
        "print('Hello World')\n",
        "print(555, 867, 5309)\n",
        "print('Hi''\\n'\"What's up\") # a comma is not always needed. a '\\n' means a line break"
      ],
      "metadata": {
        "colab": {
          "base_uri": "https://localhost:8080/"
        },
        "id": "CAs3cyzisy7C",
        "outputId": "01d24da8-bb50-4e78-c64e-540f8a592ca9"
      },
      "execution_count": null,
      "outputs": [
        {
          "output_type": "stream",
          "name": "stdout",
          "text": [
            "Hello World\n",
            "555 867 5309\n",
            "Hi\n",
            "What's up\n"
          ]
        }
      ]
    },
    {
      "cell_type": "code",
      "source": [
        "help(print)"
      ],
      "metadata": {
        "colab": {
          "base_uri": "https://localhost:8080/"
        },
        "id": "KZ5YyiaatNoZ",
        "outputId": "b27d706b-0d1b-4a69-e466-4260306fbb05"
      },
      "execution_count": null,
      "outputs": [
        {
          "output_type": "stream",
          "name": "stdout",
          "text": [
            "Help on built-in function print in module builtins:\n",
            "\n",
            "print(...)\n",
            "    print(value, ..., sep=' ', end='\\n', file=sys.stdout, flush=False)\n",
            "    \n",
            "    Prints the values to a stream, or to sys.stdout by default.\n",
            "    Optional keyword arguments:\n",
            "    file:  a file-like object (stream); defaults to the current sys.stdout.\n",
            "    sep:   string inserted between values, default a space.\n",
            "    end:   string appended after the last value, default a newline.\n",
            "    flush: whether to forcibly flush the stream.\n",
            "\n"
          ]
        }
      ]
    },
    {
      "cell_type": "code",
      "source": [
        "print('What time is it is?')\n",
        "time = input()\n",
        "print(f'Oh it is {time}')"
      ],
      "metadata": {
        "colab": {
          "base_uri": "https://localhost:8080/"
        },
        "id": "hq_MimX6tbMV",
        "outputId": "f44aa7de-2f67-48d3-c78e-2cf29bcaa6ec"
      },
      "execution_count": null,
      "outputs": [
        {
          "output_type": "stream",
          "name": "stdout",
          "text": [
            "What time is it is?\n",
            "1 am\n",
            "Oh it is 1 am\n"
          ]
        }
      ]
    },
    {
      "cell_type": "code",
      "source": [
        "# Convert to  differnt data type\n",
        "print(int(8.7))\n",
        "print(str(8.7))\n",
        "age = input()\n",
        "print(f'He is {age} years old')"
      ],
      "metadata": {
        "colab": {
          "base_uri": "https://localhost:8080/"
        },
        "id": "rt1P332yuDvU",
        "outputId": "4916d66a-2118-4d32-bd19-1859d4ffbc22"
      },
      "execution_count": null,
      "outputs": [
        {
          "output_type": "stream",
          "name": "stdout",
          "text": [
            "8\n",
            "8.7\n",
            "25\n",
            "He is 25 years old\n"
          ]
        }
      ]
    },
    {
      "cell_type": "code",
      "source": [
        "#Indexing and Slicing\n",
        "spam = 'Hi there'\n",
        "print(spam[0])\n",
        "print(spam[4])\n",
        "print(spam[-1])\n",
        "print(spam[0:4])\n",
        "print(spam[:5])"
      ],
      "metadata": {
        "colab": {
          "base_uri": "https://localhost:8080/"
        },
        "id": "Lgbk2xoYwiM-",
        "outputId": "a3d769c2-ab10-4cbc-89ec-da82881f4809"
      },
      "execution_count": null,
      "outputs": [
        {
          "output_type": "stream",
          "name": "stdout",
          "text": [
            "H\n",
            "h\n",
            "e\n",
            "Hi t\n",
            "Hi th\n"
          ]
        }
      ]
    },
    {
      "cell_type": "code",
      "source": [
        "'Hi' in 'Hi There'\n",
        "#Some string methods\n",
        "print('Hello World'.upper())\n",
        "print('Hello World'.lower())\n",
        "print('Hello World'.islower())"
      ],
      "metadata": {
        "colab": {
          "base_uri": "https://localhost:8080/"
        },
        "id": "CazL1Q1Wx27l",
        "outputId": "587a274e-3d63-4354-fb78-0857812443a9"
      },
      "execution_count": null,
      "outputs": [
        {
          "output_type": "stream",
          "name": "stdout",
          "text": [
            "HELLO WORLD\n",
            "hello world\n",
            "False\n"
          ]
        }
      ]
    },
    {
      "cell_type": "code",
      "source": [
        "'My name is Rauf'.split()"
      ],
      "metadata": {
        "colab": {
          "base_uri": "https://localhost:8080/"
        },
        "id": "_W7-jVEvyQq9",
        "outputId": "94473b90-88f9-41d7-b438-9e365ccd330e"
      },
      "execution_count": null,
      "outputs": [
        {
          "output_type": "execute_result",
          "data": {
            "text/plain": [
              "['My', 'name', 'is', 'Rauf']"
            ]
          },
          "metadata": {},
          "execution_count": 11
        }
      ]
    },
    {
      "cell_type": "code",
      "source": [
        "\"apple.tree\".find('tr')"
      ],
      "metadata": {
        "colab": {
          "base_uri": "https://localhost:8080/"
        },
        "id": "SyRe7me-bt6e",
        "outputId": "c8d0334d-f1b6-402d-835c-e10c28f7f25f"
      },
      "execution_count": null,
      "outputs": [
        {
          "output_type": "execute_result",
          "data": {
            "text/plain": [
              "6"
            ]
          },
          "metadata": {},
          "execution_count": 12
        }
      ]
    },
    {
      "cell_type": "code",
      "source": [
        "'hello'.rjust(20,'*')"
      ],
      "metadata": {
        "colab": {
          "base_uri": "https://localhost:8080/",
          "height": 36
        },
        "id": "Osbj3XpQbzya",
        "outputId": "20332ac3-440b-4d07-b9bf-78c369204627"
      },
      "execution_count": null,
      "outputs": [
        {
          "output_type": "execute_result",
          "data": {
            "text/plain": [
              "'***************hello'"
            ],
            "application/vnd.google.colaboratory.intrinsic+json": {
              "type": "string"
            }
          },
          "metadata": {},
          "execution_count": 13
        }
      ]
    },
    {
      "cell_type": "code",
      "source": [
        "'hello'.center(20,'*')"
      ],
      "metadata": {
        "colab": {
          "base_uri": "https://localhost:8080/",
          "height": 36
        },
        "id": "a6idYi55b8F9",
        "outputId": "11abd954-9f57-40ad-c7e2-0a32246bf18a"
      },
      "execution_count": null,
      "outputs": [
        {
          "output_type": "execute_result",
          "data": {
            "text/plain": [
              "'*******hello********'"
            ],
            "application/vnd.google.colaboratory.intrinsic+json": {
              "type": "string"
            }
          },
          "metadata": {},
          "execution_count": 14
        }
      ]
    },
    {
      "cell_type": "markdown",
      "source": [
        "### Part 3: Data Structure"
      ],
      "metadata": {
        "id": "BEL7jaACcFhP"
      }
    },
    {
      "cell_type": "markdown",
      "source": [
        "1. Lists"
      ],
      "metadata": {
        "id": "kNWwQvG9pn3a"
      }
    },
    {
      "cell_type": "code",
      "source": [
        "mystr =  'apple,mango,pear,orange'\n",
        "newlist = mystr.split(',')\n",
        "print(newlist)"
      ],
      "metadata": {
        "colab": {
          "base_uri": "https://localhost:8080/"
        },
        "id": "eKC1cJzCcTxT",
        "outputId": "5dafe710-5a35-471f-f975-5b78258fd7fa"
      },
      "execution_count": null,
      "outputs": [
        {
          "output_type": "stream",
          "name": "stdout",
          "text": [
            "['apple', 'mango', 'pear', 'orange']\n"
          ]
        }
      ]
    },
    {
      "cell_type": "code",
      "source": [
        "#make changes to a list - append\n",
        "#append adds its argument as a single element to the end of the list. The length of the list increases by 1\n",
        "\n",
        "mystr = 'apple,mango,pear,orange'\n",
        "new = mystr.split(',')\n",
        "new.append('dragonfruit')\n",
        "new.extend(['tom','jerry'])\n",
        "new.insert(0, 'omega')\n",
        "new"
      ],
      "metadata": {
        "colab": {
          "base_uri": "https://localhost:8080/"
        },
        "id": "KFDu5AA9cj6k",
        "outputId": "14cea33a-f4e6-4b34-a1a9-a576b1763708"
      },
      "execution_count": null,
      "outputs": [
        {
          "output_type": "execute_result",
          "data": {
            "text/plain": [
              "['omega', 'apple', 'mango', 'pear', 'orange', 'dragonfruit', 'tom', 'jerry']"
            ]
          },
          "metadata": {},
          "execution_count": 16
        }
      ]
    },
    {
      "cell_type": "code",
      "source": [
        "list_2 = ['A','B']\n",
        "list_2.append(['C','D'])\n",
        "list_2\n",
        "del list_2[0]\n",
        "print(list_2)\n",
        "list_2.remove('B')\n",
        "print(list_2)"
      ],
      "metadata": {
        "colab": {
          "base_uri": "https://localhost:8080/"
        },
        "id": "Vkwp77tweBVt",
        "outputId": "5db777cd-b3ac-4767-ceb9-695b28384d8b"
      },
      "execution_count": null,
      "outputs": [
        {
          "output_type": "stream",
          "name": "stdout",
          "text": [
            "['B', ['C', 'D']]\n",
            "[['C', 'D']]\n"
          ]
        }
      ]
    },
    {
      "cell_type": "code",
      "source": [
        "new.sort()\n",
        "new"
      ],
      "metadata": {
        "colab": {
          "base_uri": "https://localhost:8080/"
        },
        "id": "xiUVpbi_pdIu",
        "outputId": "e408c549-d4e6-43a1-ed51-4c682dfd22e4"
      },
      "execution_count": null,
      "outputs": [
        {
          "output_type": "execute_result",
          "data": {
            "text/plain": [
              "['apple', 'dragonfruit', 'jerry', 'mango', 'omega', 'orange', 'pear', 'tom']"
            ]
          },
          "metadata": {},
          "execution_count": 18
        }
      ]
    },
    {
      "cell_type": "markdown",
      "source": [
        "2. Dictionaires\n"
      ],
      "metadata": {
        "id": "hfx7tkFCpqa-"
      }
    },
    {
      "cell_type": "code",
      "source": [
        "gradebook = {}\n",
        "gradebook['Susan'] = 90\n",
        "gradebook['Anthony'] = 95\n",
        "gradebook['Tim'] = 85\n",
        "gradebook['Young'] = [98,89]\n",
        "gradebook"
      ],
      "metadata": {
        "colab": {
          "base_uri": "https://localhost:8080/"
        },
        "id": "L1nUeFoOptBb",
        "outputId": "a4164477-867e-4e69-af9f-691153d4c935"
      },
      "execution_count": null,
      "outputs": [
        {
          "output_type": "execute_result",
          "data": {
            "text/plain": [
              "{'Anthony': 95, 'Susan': 90, 'Tim': 85, 'Young': [98, 89]}"
            ]
          },
          "metadata": {},
          "execution_count": 19
        }
      ]
    },
    {
      "cell_type": "code",
      "source": [
        "gradebook.update({'Susan':97})\n",
        "gradebook"
      ],
      "metadata": {
        "colab": {
          "base_uri": "https://localhost:8080/"
        },
        "id": "lAcm7JiqqoSu",
        "outputId": "c4243616-9a65-49c6-f8f4-0a869b90fe11"
      },
      "execution_count": null,
      "outputs": [
        {
          "output_type": "execute_result",
          "data": {
            "text/plain": [
              "{'Anthony': 95, 'Susan': 97, 'Tim': 85, 'Young': [98, 89]}"
            ]
          },
          "metadata": {},
          "execution_count": 20
        }
      ]
    },
    {
      "cell_type": "code",
      "source": [
        "print(gradebook.keys())\n",
        "print(gradebook.values())\n",
        "print(gradebook.items())"
      ],
      "metadata": {
        "colab": {
          "base_uri": "https://localhost:8080/"
        },
        "id": "8Sg2q6XXqyKb",
        "outputId": "f3580db9-2ffb-4b31-9ada-878425e836ff"
      },
      "execution_count": null,
      "outputs": [
        {
          "output_type": "stream",
          "name": "stdout",
          "text": [
            "dict_keys(['Susan', 'Anthony', 'Tim', 'Young'])\n",
            "dict_values([97, 95, 85, [98, 89]])\n",
            "dict_items([('Susan', 97), ('Anthony', 95), ('Tim', 85), ('Young', [98, 89])])\n"
          ]
        }
      ]
    },
    {
      "cell_type": "code",
      "source": [
        "# Often when we copy a data structure like this \n",
        "new_2 = new\n",
        "del new_2[1]\n",
        "print(new_2)\n",
        "print(new)\n",
        "\n",
        "#it ends up altering the original structure instead of creating a copy\n",
        "#this is known as a shallow copy"
      ],
      "metadata": {
        "colab": {
          "base_uri": "https://localhost:8080/"
        },
        "id": "BhgJfX4aqzzI",
        "outputId": "74ab6c48-4c87-4707-e150-e99200a516ce"
      },
      "execution_count": null,
      "outputs": [
        {
          "output_type": "stream",
          "name": "stdout",
          "text": [
            "['apple', 'jerry', 'mango', 'omega', 'orange', 'pear', 'tom']\n",
            "['apple', 'jerry', 'mango', 'omega', 'orange', 'pear', 'tom']\n"
          ]
        }
      ]
    },
    {
      "cell_type": "code",
      "source": [
        "#while we can use a copy function to create a deep copy\n",
        "new_3 = new.copy()\n",
        "del new_3[0]\n",
        "print(new_3)\n",
        "print(new)\n",
        "\n",
        "sorted(gradebook)\n",
        "gradebook"
      ],
      "metadata": {
        "colab": {
          "base_uri": "https://localhost:8080/"
        },
        "id": "nSCkkIZuv8La",
        "outputId": "1bfc7ee7-6222-4cbf-eed0-51493c249ef1"
      },
      "execution_count": null,
      "outputs": [
        {
          "output_type": "stream",
          "name": "stdout",
          "text": [
            "['jerry', 'mango', 'omega', 'orange', 'pear', 'tom']\n",
            "['apple', 'jerry', 'mango', 'omega', 'orange', 'pear', 'tom']\n"
          ]
        },
        {
          "output_type": "execute_result",
          "data": {
            "text/plain": [
              "{'Anthony': 95, 'Susan': 97, 'Tim': 85, 'Young': [98, 89]}"
            ]
          },
          "metadata": {},
          "execution_count": 23
        }
      ]
    },
    {
      "cell_type": "code",
      "source": [
        "#  We can concatenate a dictionary\n",
        "dict_1 = {1:10, 2:20}\n",
        "dict_2 = {3:30, 4:40}\n",
        "dict_3 = {5:50, 6:60}\n",
        "\n",
        "dict_4 = {}\n",
        "for d in (dict_1, dict_2, dict_3):\n",
        "  dict_4.update(d)\n",
        "\n",
        "dict_4"
      ],
      "metadata": {
        "colab": {
          "base_uri": "https://localhost:8080/"
        },
        "id": "JHwy2M88w8Tj",
        "outputId": "5f966bc5-87cf-4324-92a6-346bc3f62de6"
      },
      "execution_count": null,
      "outputs": [
        {
          "output_type": "execute_result",
          "data": {
            "text/plain": [
              "{1: 10, 2: 20, 3: 30, 4: 40, 5: 50, 6: 60}"
            ]
          },
          "metadata": {},
          "execution_count": 24
        }
      ]
    },
    {
      "cell_type": "markdown",
      "source": [
        "Part 1: Functions"
      ],
      "metadata": {
        "id": "0ysAQh4SxzFp"
      }
    },
    {
      "cell_type": "code",
      "source": [
        "def yell_it():\n",
        "  phrase = input('Input a phrase')\n",
        "  print(phrase.upper()+'!')\n",
        "\n",
        "yell_it()"
      ],
      "metadata": {
        "colab": {
          "base_uri": "https://localhost:8080/"
        },
        "id": "HDHke7qgzQbi",
        "outputId": "9a93a5f4-fad0-427a-e941-0985969e814b"
      },
      "execution_count": null,
      "outputs": [
        {
          "output_type": "stream",
          "name": "stdout",
          "text": [
            "Input a phraseHi\n",
            "HI!\n"
          ]
        }
      ]
    },
    {
      "cell_type": "code",
      "source": [
        "#taking input  from user\n",
        "def yell_it(phrase):\n",
        "  print(phrase.upper()+'!')\n",
        "\n",
        "word = input('Input a phrase\\n')\n",
        "yell_it(word)"
      ],
      "metadata": {
        "colab": {
          "base_uri": "https://localhost:8080/"
        },
        "id": "z6ip5qtPzgIO",
        "outputId": "eb9a983e-5f2b-4aa4-a5e2-27bcc3063078"
      },
      "execution_count": null,
      "outputs": [
        {
          "output_type": "stream",
          "name": "stdout",
          "text": [
            "Input a phrase\n",
            "Hello\n",
            "HELLO!\n"
          ]
        }
      ]
    },
    {
      "cell_type": "code",
      "source": [
        "#Setting a default argument\n",
        "def yell_it_a(phrase = 'hi'):\n",
        "  print(phrase.upper()+'!')\n",
        "\n",
        "word = input('Input a phrase\\n')\n",
        "yell_it_a()"
      ],
      "metadata": {
        "colab": {
          "base_uri": "https://localhost:8080/"
        },
        "id": "wK80H7JOz7yA",
        "outputId": "ccbe55b9-5861-490d-8e9d-80fba318561c"
      },
      "execution_count": null,
      "outputs": [
        {
          "output_type": "stream",
          "name": "stdout",
          "text": [
            "Input a phrase\n",
            "yo\n",
            "HI!\n"
          ]
        }
      ]
    },
    {
      "cell_type": "code",
      "source": [
        "#define a function with a return value\n",
        "#create and call make_doctor() with full_name argument from user input - then print the return value\n",
        "\n",
        "def make_doctor(name):\n",
        "  Doctor = print('Dr. ' + name)\n",
        "  return Doctor\n",
        "\n",
        "name = input('Enter Name\\n')\n",
        "make_doctor(name)"
      ],
      "metadata": {
        "colab": {
          "base_uri": "https://localhost:8080/"
        },
        "id": "mu1JPM1B0X81",
        "outputId": "a7a37218-c804-4a28-d581-f330932e743b"
      },
      "execution_count": null,
      "outputs": [
        {
          "output_type": "stream",
          "name": "stdout",
          "text": [
            "Enter Name\n",
            "Rauf\n",
            "Dr. Rauf\n"
          ]
        }
      ]
    },
    {
      "cell_type": "markdown",
      "source": [
        "Differences between local and global variables"
      ],
      "metadata": {
        "id": "DiX0-ujS1pzN"
      }
    },
    {
      "cell_type": "code",
      "source": [
        "x = 'omega'\n",
        "\n",
        "def alpha():\n",
        "  x = 10\n",
        "  y = 20\n",
        "  return x + y\n",
        "\n",
        "display(alpha())\n",
        "print(x)\n",
        "\n",
        "# X is stored as a different variable in my global enviorment hence different results"
      ],
      "metadata": {
        "colab": {
          "base_uri": "https://localhost:8080/",
          "height": 52
        },
        "id": "8M1qhN2R2taY",
        "outputId": "38e13cf4-6e84-4267-e40e-2f4e1bf9aa84"
      },
      "execution_count": null,
      "outputs": [
        {
          "output_type": "display_data",
          "data": {
            "text/plain": [
              "30"
            ]
          },
          "metadata": {}
        },
        {
          "output_type": "stream",
          "name": "stdout",
          "text": [
            "omega\n"
          ]
        }
      ]
    },
    {
      "cell_type": "code",
      "source": [
        "#In the example above we defined X in two different instances. What would have if we don't define the variable in a local enviorment \n",
        "\n",
        "alpha = 6\n",
        "def omega():\n",
        "  return alpha\n",
        "\n",
        "print(alpha)\n",
        "omega()\n",
        "#In this case it will take on the characteristic of the global variable"
      ],
      "metadata": {
        "colab": {
          "base_uri": "https://localhost:8080/"
        },
        "id": "OGAlc50CXt56",
        "outputId": "98165d54-a2d8-44a5-a0fd-dd8a1b014019"
      },
      "execution_count": null,
      "outputs": [
        {
          "output_type": "stream",
          "name": "stdout",
          "text": [
            "6\n"
          ]
        },
        {
          "output_type": "execute_result",
          "data": {
            "text/plain": [
              "6"
            ]
          },
          "metadata": {},
          "execution_count": 40
        }
      ]
    },
    {
      "cell_type": "markdown",
      "source": [
        "Control Flows"
      ],
      "metadata": {
        "id": "3f9lLp8CZTOq"
      }
    },
    {
      "cell_type": "code",
      "source": [
        "#if, elif, else\n",
        "\n",
        "def dice_roll(x):\n",
        "  if x > 0:\n",
        "    x = x - 1\n",
        "  else:\n",
        "    x += 1\n",
        "  return x\n",
        "\n",
        "x = -3\n",
        "dice_roll(x)\n",
        "\n",
        "# using elif\n",
        "\n",
        "def dice_roll(x):\n",
        "  if x > 0 and x < 4:\n",
        "    x = x - 1\n",
        "  elif x > 4 and x < 6:\n",
        "    x += 5\n",
        "  else:\n",
        "    x += 1\n",
        "  return x\n",
        "\n",
        "x = 5\n",
        "dice_roll(x)"
      ],
      "metadata": {
        "colab": {
          "base_uri": "https://localhost:8080/"
        },
        "id": "F6jp7kCGZSjA",
        "outputId": "912b3c6d-88ae-4dd6-f77d-36395c8409ad"
      },
      "execution_count": null,
      "outputs": [
        {
          "output_type": "execute_result",
          "data": {
            "text/plain": [
              "10"
            ]
          },
          "metadata": {},
          "execution_count": 53
        }
      ]
    },
    {
      "cell_type": "code",
      "source": [
        "#While loops run till it is broken or a condition is fulfilled\n",
        "\n",
        "familiar_name = \"\"\n",
        "\n",
        "while True:\n",
        "  familiar_name=input('Enter your name - character only:\\n')\n",
        "  if familiar_name.isalpha():\n",
        "    print('nice name')\n",
        "    break\n",
        "  else:\n",
        "    print(\"that doesn't seem right\")"
      ],
      "metadata": {
        "colab": {
          "base_uri": "https://localhost:8080/"
        },
        "id": "YtnxqnPijBbH",
        "outputId": "3c6d87a0-7de7-44f6-f530-6ab8fc7b1063"
      },
      "execution_count": null,
      "outputs": [
        {
          "output_type": "stream",
          "name": "stdout",
          "text": [
            "Enter your name - character only:\n",
            "Rauf\n",
            "nice name\n"
          ]
        }
      ]
    },
    {
      "cell_type": "code",
      "source": [
        "while True:\n",
        "  sandwichtype=input(\"'c' for cheese and 'v' for veggie\\n\")\n",
        "\n",
        "  if sandwichtype.lower() == 'c':\n",
        "    print('Please select your cheese\\n')\n",
        "    while True:\n",
        "      cheesetype=input(\"'s' for Swiss and 'a' for American\\n\")\n",
        "      if cheesetype.lower() == 's':\n",
        "        print('Here is your swiss cheese sandwich. Thank you.')\n",
        "        break\n",
        "      elif cheesetype.lower() == 'a':\n",
        "        print(\"Here is your  American Cheese Sandwich. Thank you.\")\n",
        "        break\n",
        "      else:\n",
        "        print('Sorry, we do not have that type of cheese')\n",
        "    break\n",
        "  if sandwichtype.lower() == 'v':\n",
        "    print(\"Here is your veggie sandwich. Thank you.\")\n",
        "    break\n",
        "  else:\n",
        "    print('Sorry, we do not this type of sandwich')"
      ],
      "metadata": {
        "id": "VySAWnFDj81H"
      },
      "execution_count": null,
      "outputs": []
    },
    {
      "cell_type": "markdown",
      "source": [
        "## Small Case Study"
      ],
      "metadata": {
        "id": "YAuDEeuJnjhA"
      }
    },
    {
      "cell_type": "code",
      "source": [
        "#This uses a movie rating dataset from the following link: \"https://grouplens.org/datasets/movielens/\"\n",
        "#Since I use google colab and I will also import a package to connect this notebook to my google drive\n",
        "\n",
        "import numpy as np\n",
        "import pandas as pd\n",
        "from google.colab import drive"
      ],
      "metadata": {
        "id": "nalCZSA2noD9"
      },
      "execution_count": null,
      "outputs": []
    },
    {
      "cell_type": "code",
      "source": [
        "drive.mount('/root/drive/')"
      ],
      "metadata": {
        "colab": {
          "base_uri": "https://localhost:8080/"
        },
        "id": "mySirECosX0H",
        "outputId": "8cde21c8-a74e-4027-ba58-df6151886efd"
      },
      "execution_count": null,
      "outputs": [
        {
          "output_type": "stream",
          "name": "stdout",
          "text": [
            "Mounted at /root/drive/\n"
          ]
        }
      ]
    },
    {
      "cell_type": "code",
      "source": [
        "  "
      ],
      "metadata": {
        "id": "C0yQ8D7NsyVx"
      },
      "execution_count": null,
      "outputs": []
    }
  ]
}