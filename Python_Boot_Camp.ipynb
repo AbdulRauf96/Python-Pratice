{
  "nbformat": 4,
  "nbformat_minor": 0,
  "metadata": {
    "colab": {
      "name": "Python Boot-Camp",
      "provenance": [],
      "authorship_tag": "ABX9TyNDjFFgbLsoIt5B6qbWG01s",
      "include_colab_link": true
    },
    "kernelspec": {
      "name": "python3",
      "display_name": "Python 3"
    },
    "language_info": {
      "name": "python"
    }
  },
  "cells": [
    {
      "cell_type": "markdown",
      "metadata": {
        "id": "view-in-github",
        "colab_type": "text"
      },
      "source": [
        "<a href=\"https://colab.research.google.com/github/AbdulRauf96/Python-Pratice/blob/main/Python_Boot_Camp.ipynb\" target=\"_parent\"><img src=\"https://colab.research.google.com/assets/colab-badge.svg\" alt=\"Open In Colab\"/></a>"
      ]
    },
    {
      "cell_type": "markdown",
      "source": [
        "# Pyhton Boot-Camp\n",
        "\n",
        "This is a starter notebook to get a hang of some basic python functions and get started with coding. Here is an array of differnet functions that help you  get started with python. "
      ],
      "metadata": {
        "id": "CqX3voercP1l"
      }
    },
    {
      "cell_type": "code",
      "execution_count": 10,
      "metadata": {
        "colab": {
          "base_uri": "https://localhost:8080/"
        },
        "id": "Zi3vz3airXJH",
        "outputId": "7dcfef42-f341-4d06-876e-088bd81a9c21"
      },
      "outputs": [
        {
          "output_type": "stream",
          "name": "stdout",
          "text": [
            "The result of 5%3 is 2\n",
            "The result of 5/3 is 2\n",
            "The result of 5*3 is 15\n"
          ]
        }
      ],
      "source": [
        "#Some arthimetic operation \n",
        "print('The result of 5%3 is {}'.format(5%3))\n",
        "print('The result of 5/3 is {}'.format(round(5/3)))\n",
        "print('The result of 5*3 is {}'.format(5*3))"
      ]
    },
    {
      "cell_type": "code",
      "source": [
        "#Storing values in variables\n",
        "spam = 40\n",
        "display(spam) #display acts like print here a substitute to see two results in one cell\n",
        "eggs = 2\n",
        "spam + eggs"
      ],
      "metadata": {
        "colab": {
          "base_uri": "https://localhost:8080/",
          "height": 52
        },
        "id": "oHZeznLSsgC3",
        "outputId": "3d8b8085-ab52-43c8-9db8-27901a0eabbb"
      },
      "execution_count": 167,
      "outputs": [
        {
          "output_type": "display_data",
          "data": {
            "text/plain": [
              "40"
            ]
          },
          "metadata": {}
        },
        {
          "output_type": "execute_result",
          "data": {
            "text/plain": [
              "42"
            ]
          },
          "metadata": {},
          "execution_count": 167
        }
      ]
    },
    {
      "cell_type": "markdown",
      "source": [
        "### Print Function"
      ],
      "metadata": {
        "id": "blTWu69ZsqH9"
      }
    },
    {
      "cell_type": "code",
      "source": [
        "print('Hello World')\n",
        "print(555, 867, 5309)\n",
        "print('Hi''\\n'\"What's up\") # a comma is not always needed. a '\\n' means a line break"
      ],
      "metadata": {
        "colab": {
          "base_uri": "https://localhost:8080/"
        },
        "id": "CAs3cyzisy7C",
        "outputId": "5c357345-6927-411b-f2bb-4b37923c79b4"
      },
      "execution_count": 20,
      "outputs": [
        {
          "output_type": "stream",
          "name": "stdout",
          "text": [
            "Hello World\n",
            "555 867 5309\n",
            "Hi\n",
            "What's up\n"
          ]
        }
      ]
    },
    {
      "cell_type": "code",
      "source": [
        "help(print)"
      ],
      "metadata": {
        "colab": {
          "base_uri": "https://localhost:8080/"
        },
        "id": "KZ5YyiaatNoZ",
        "outputId": "e7241d21-4abc-4afd-c50f-dda303bdc8d4"
      },
      "execution_count": 21,
      "outputs": [
        {
          "output_type": "stream",
          "name": "stdout",
          "text": [
            "Help on built-in function print in module builtins:\n",
            "\n",
            "print(...)\n",
            "    print(value, ..., sep=' ', end='\\n', file=sys.stdout, flush=False)\n",
            "    \n",
            "    Prints the values to a stream, or to sys.stdout by default.\n",
            "    Optional keyword arguments:\n",
            "    file:  a file-like object (stream); defaults to the current sys.stdout.\n",
            "    sep:   string inserted between values, default a space.\n",
            "    end:   string appended after the last value, default a newline.\n",
            "    flush: whether to forcibly flush the stream.\n",
            "\n"
          ]
        }
      ]
    },
    {
      "cell_type": "code",
      "source": [
        "print('What time is it is?')\n",
        "time = input()\n",
        "print(f'Oh it is {time}')"
      ],
      "metadata": {
        "colab": {
          "base_uri": "https://localhost:8080/"
        },
        "id": "hq_MimX6tbMV",
        "outputId": "f13d48f8-e0ef-41ba-d530-a56b02fd688c"
      },
      "execution_count": 35,
      "outputs": [
        {
          "output_type": "stream",
          "name": "stdout",
          "text": [
            "What time is it is?\n",
            "7 pm\n",
            "Oh it is 7 pm\n"
          ]
        }
      ]
    },
    {
      "cell_type": "code",
      "source": [
        "# Convert to  differnt data type\n",
        "print(int(8.7))\n",
        "print(str(8.7))\n",
        "age = input()\n",
        "print(f'He is {age} years old')"
      ],
      "metadata": {
        "colab": {
          "base_uri": "https://localhost:8080/"
        },
        "id": "rt1P332yuDvU",
        "outputId": "550557d9-6dfe-41dd-e394-2669dc304608"
      },
      "execution_count": 169,
      "outputs": [
        {
          "output_type": "stream",
          "name": "stdout",
          "text": [
            "8\n",
            "8.7\n",
            "25\n",
            "He is 25 years old\n"
          ]
        }
      ]
    },
    {
      "cell_type": "code",
      "source": [
        "#Indexing and Slicing\n",
        "spam = 'Hi there'\n",
        "print(spam[0])\n",
        "print(spam[4])\n",
        "print(spam[-1])\n",
        "print(spam[0:4])\n",
        "print(spam[:5])"
      ],
      "metadata": {
        "colab": {
          "base_uri": "https://localhost:8080/"
        },
        "id": "Lgbk2xoYwiM-",
        "outputId": "509c2172-4b80-4eb1-f00d-cbf506a22f9e"
      },
      "execution_count": 42,
      "outputs": [
        {
          "output_type": "stream",
          "name": "stdout",
          "text": [
            "H\n",
            "h\n",
            "e\n",
            "Hi t\n",
            "Hi th\n"
          ]
        }
      ]
    },
    {
      "cell_type": "code",
      "source": [
        "'Hi' in 'Hi There'\n",
        "#Some string methods\n",
        "print('Hello World'.upper())\n",
        "print('Hello World'.lower())\n",
        "print('Hello World'.islower())"
      ],
      "metadata": {
        "colab": {
          "base_uri": "https://localhost:8080/"
        },
        "id": "CazL1Q1Wx27l",
        "outputId": "77a467c8-bfe6-4092-d627-b55686a41750"
      },
      "execution_count": 45,
      "outputs": [
        {
          "output_type": "stream",
          "name": "stdout",
          "text": [
            "HELLO WORLD\n",
            "hello world\n",
            "False\n"
          ]
        }
      ]
    },
    {
      "cell_type": "code",
      "source": [
        "'My name is Rauf'.split()"
      ],
      "metadata": {
        "colab": {
          "base_uri": "https://localhost:8080/"
        },
        "id": "_W7-jVEvyQq9",
        "outputId": "59a3b7ea-a34e-4048-aad6-a4bcda41c342"
      },
      "execution_count": 1,
      "outputs": [
        {
          "output_type": "execute_result",
          "data": {
            "text/plain": [
              "['My', 'name', 'is', 'Rauf']"
            ]
          },
          "metadata": {},
          "execution_count": 1
        }
      ]
    },
    {
      "cell_type": "code",
      "source": [
        "\"apple.tree\".find('tr')"
      ],
      "metadata": {
        "colab": {
          "base_uri": "https://localhost:8080/",
          "height": 36
        },
        "id": "SyRe7me-bt6e",
        "outputId": "e5d672ee-0a6a-4a97-e94b-96f1a09295e8"
      },
      "execution_count": 4,
      "outputs": [
        {
          "output_type": "execute_result",
          "data": {
            "text/plain": [
              "'***************hello'"
            ],
            "application/vnd.google.colaboratory.intrinsic+json": {
              "type": "string"
            }
          },
          "metadata": {},
          "execution_count": 4
        }
      ]
    },
    {
      "cell_type": "code",
      "source": [
        "'hello'.rjust(20,'*')"
      ],
      "metadata": {
        "colab": {
          "base_uri": "https://localhost:8080/",
          "height": 36
        },
        "id": "Osbj3XpQbzya",
        "outputId": "7c2dda6e-099f-45af-e32c-74cf182ebb25"
      },
      "execution_count": 6,
      "outputs": [
        {
          "output_type": "execute_result",
          "data": {
            "text/plain": [
              "'***************hello'"
            ],
            "application/vnd.google.colaboratory.intrinsic+json": {
              "type": "string"
            }
          },
          "metadata": {},
          "execution_count": 6
        }
      ]
    },
    {
      "cell_type": "code",
      "source": [
        "'hello'.center(20,'*')"
      ],
      "metadata": {
        "colab": {
          "base_uri": "https://localhost:8080/",
          "height": 36
        },
        "id": "a6idYi55b8F9",
        "outputId": "f681ecc5-4622-404f-a3e9-1c806f18663e"
      },
      "execution_count": 9,
      "outputs": [
        {
          "output_type": "execute_result",
          "data": {
            "text/plain": [
              "'*******hello********'"
            ],
            "application/vnd.google.colaboratory.intrinsic+json": {
              "type": "string"
            }
          },
          "metadata": {},
          "execution_count": 9
        }
      ]
    },
    {
      "cell_type": "markdown",
      "source": [
        "### Part 3: Data Structure"
      ],
      "metadata": {
        "id": "BEL7jaACcFhP"
      }
    },
    {
      "cell_type": "markdown",
      "source": [
        "1. Lists"
      ],
      "metadata": {
        "id": "kNWwQvG9pn3a"
      }
    },
    {
      "cell_type": "code",
      "source": [
        "mystr =  'apple,mango,pear,orange'\n",
        "newlist = mystr.split(',')\n",
        "print(newlist)"
      ],
      "metadata": {
        "colab": {
          "base_uri": "https://localhost:8080/"
        },
        "id": "eKC1cJzCcTxT",
        "outputId": "061a3d65-6b54-4384-87f9-202da1b23505"
      },
      "execution_count": 28,
      "outputs": [
        {
          "output_type": "stream",
          "name": "stdout",
          "text": [
            "['apple', 'mango', 'pear', 'orange']\n"
          ]
        }
      ]
    },
    {
      "cell_type": "code",
      "source": [
        "#make changes to a list - append\n",
        "#append adds its argument as a single element to the end of the list. The length of the list increases by 1\n",
        "\n",
        "mystr = 'apple,mango,pear,orange'\n",
        "new = mystr.split(',')\n",
        "new.append('dragonfruit')\n",
        "new.extend(['tom','jerry'])\n",
        "new.insert(0, 'omega')\n",
        "new"
      ],
      "metadata": {
        "colab": {
          "base_uri": "https://localhost:8080/"
        },
        "id": "KFDu5AA9cj6k",
        "outputId": "9d6b72fe-4dab-4ba9-9d05-fa691b761f4b"
      },
      "execution_count": 112,
      "outputs": [
        {
          "output_type": "execute_result",
          "data": {
            "text/plain": [
              "['omega', 'apple', 'mango', 'pear', 'orange', 'dragonfruit', 'tom', 'jerry']"
            ]
          },
          "metadata": {},
          "execution_count": 112
        }
      ]
    },
    {
      "cell_type": "code",
      "source": [
        "list_2 = ['A','B']\n",
        "list_2.append(['C','D'])\n",
        "list_2\n",
        "del list_2[0]\n",
        "print(list_2)\n",
        "list_2.remove('B')\n",
        "print(list_2)"
      ],
      "metadata": {
        "colab": {
          "base_uri": "https://localhost:8080/"
        },
        "id": "Vkwp77tweBVt",
        "outputId": "34183f77-9741-4e58-eb89-80eb8fc2ec5d"
      },
      "execution_count": 80,
      "outputs": [
        {
          "output_type": "stream",
          "name": "stdout",
          "text": [
            "['B', ['C', 'D']]\n",
            "[['C', 'D']]\n"
          ]
        }
      ]
    },
    {
      "cell_type": "code",
      "source": [
        "new.sort()\n",
        "new"
      ],
      "metadata": {
        "colab": {
          "base_uri": "https://localhost:8080/"
        },
        "id": "xiUVpbi_pdIu",
        "outputId": "09feb905-cc82-44ab-ae78-9f257ce3275c"
      },
      "execution_count": 113,
      "outputs": [
        {
          "output_type": "execute_result",
          "data": {
            "text/plain": [
              "['apple', 'dragonfruit', 'jerry', 'mango', 'omega', 'orange', 'pear', 'tom']"
            ]
          },
          "metadata": {},
          "execution_count": 113
        }
      ]
    },
    {
      "cell_type": "markdown",
      "source": [
        "2. Dictionaires\n"
      ],
      "metadata": {
        "id": "hfx7tkFCpqa-"
      }
    },
    {
      "cell_type": "code",
      "source": [
        "gradebook = {}\n",
        "gradebook['Susan'] = 90\n",
        "gradebook['Anthony'] = 95\n",
        "gradebook['Tim'] = 85\n",
        "gradebook['Young'] = [98,89]\n",
        "gradebook"
      ],
      "metadata": {
        "colab": {
          "base_uri": "https://localhost:8080/"
        },
        "id": "L1nUeFoOptBb",
        "outputId": "a0b2922a-0abf-43bd-97b1-76dea0529ed0"
      },
      "execution_count": 92,
      "outputs": [
        {
          "output_type": "execute_result",
          "data": {
            "text/plain": [
              "{'Anthony': 95, 'Susan': 90, 'Tim': 85, 'Young': [98, 89]}"
            ]
          },
          "metadata": {},
          "execution_count": 92
        }
      ]
    },
    {
      "cell_type": "code",
      "source": [
        "gradebook.update({'Susan':97})\n",
        "gradebook"
      ],
      "metadata": {
        "colab": {
          "base_uri": "https://localhost:8080/"
        },
        "id": "lAcm7JiqqoSu",
        "outputId": "90081875-de0f-4ea5-8d7a-bb17362811ce"
      },
      "execution_count": 95,
      "outputs": [
        {
          "output_type": "execute_result",
          "data": {
            "text/plain": [
              "{'Anthony': 95, 'Susan': 97, 'Tim': 85, 'Young': [98, 89]}"
            ]
          },
          "metadata": {},
          "execution_count": 95
        }
      ]
    },
    {
      "cell_type": "code",
      "source": [
        "print(gradebook.keys())\n",
        "print(gradebook.values())\n",
        "print(gradebook.items())"
      ],
      "metadata": {
        "colab": {
          "base_uri": "https://localhost:8080/"
        },
        "id": "8Sg2q6XXqyKb",
        "outputId": "affbf776-f394-49b7-b72a-708598bad08b"
      },
      "execution_count": 100,
      "outputs": [
        {
          "output_type": "stream",
          "name": "stdout",
          "text": [
            "dict_keys(['Susan', 'Anthony', 'Tim', 'Young'])\n",
            "dict_values([97, 95, 85, [98, 89]])\n",
            "dict_items([('Susan', 97), ('Anthony', 95), ('Tim', 85), ('Young', [98, 89])])\n"
          ]
        }
      ]
    },
    {
      "cell_type": "code",
      "source": [
        "# Often when we copy a data structure like this \n",
        "new_2 = new\n",
        "del new_2[1]\n",
        "print(new_2)\n",
        "print(new)\n",
        "\n",
        "#it ends up altering the original structure instead of creating a copy\n",
        "#this is known as a shallow copy"
      ],
      "metadata": {
        "colab": {
          "base_uri": "https://localhost:8080/"
        },
        "id": "BhgJfX4aqzzI",
        "outputId": "98740063-28e1-4139-b096-a045fe9b609b"
      },
      "execution_count": 120,
      "outputs": [
        {
          "output_type": "stream",
          "name": "stdout",
          "text": [
            "['apple', 'jerry', 'mango', 'omega', 'orange', 'pear', 'tom']\n",
            "['apple', 'jerry', 'mango', 'omega', 'orange', 'pear', 'tom']\n"
          ]
        }
      ]
    },
    {
      "cell_type": "code",
      "source": [
        "#while we can use a copy function to create a deep copy\n",
        "new_3 = new.copy()\n",
        "del new_3[0]\n",
        "print(new_3)\n",
        "print(new)\n",
        "\n",
        "sorted(gradebook)\n",
        "gradebook"
      ],
      "metadata": {
        "colab": {
          "base_uri": "https://localhost:8080/"
        },
        "id": "nSCkkIZuv8La",
        "outputId": "2f0f40e8-c690-43c0-c436-edff0f584490"
      },
      "execution_count": 124,
      "outputs": [
        {
          "output_type": "stream",
          "name": "stdout",
          "text": [
            "['jerry', 'mango', 'omega', 'orange', 'pear', 'tom']\n",
            "['apple', 'jerry', 'mango', 'omega', 'orange', 'pear', 'tom']\n"
          ]
        },
        {
          "output_type": "execute_result",
          "data": {
            "text/plain": [
              "{'Anthony': 95, 'Susan': 97, 'Tim': 85, 'Young': [98, 89]}"
            ]
          },
          "metadata": {},
          "execution_count": 124
        }
      ]
    },
    {
      "cell_type": "code",
      "source": [
        "#  We can concatenate a dictionary\n",
        "dict_1 = {1:10, 2:20}\n",
        "dict_2 = {3:30, 4:40}\n",
        "dict_3 = {5:50, 6:60}\n",
        "\n",
        "dict_4 = {}\n",
        "for d in (dict_1, dict_2, dict_3):\n",
        "  dict_4.update(d)\n",
        "\n",
        "dict_4"
      ],
      "metadata": {
        "colab": {
          "base_uri": "https://localhost:8080/"
        },
        "id": "JHwy2M88w8Tj",
        "outputId": "507fa409-ede1-429f-b4ba-83d5443a54df"
      },
      "execution_count": 128,
      "outputs": [
        {
          "output_type": "execute_result",
          "data": {
            "text/plain": [
              "{1: 10, 2: 20, 3: 30, 4: 40, 5: 50, 6: 60}"
            ]
          },
          "metadata": {},
          "execution_count": 128
        }
      ]
    },
    {
      "cell_type": "markdown",
      "source": [
        "Part 1: Functions"
      ],
      "metadata": {
        "id": "0ysAQh4SxzFp"
      }
    },
    {
      "cell_type": "code",
      "source": [
        "def yell_it():\n",
        "  phrase = input('Input a phrase')\n",
        "  print(phrase.upper()+'!')\n",
        "\n",
        "yell_it()"
      ],
      "metadata": {
        "colab": {
          "base_uri": "https://localhost:8080/"
        },
        "id": "HDHke7qgzQbi",
        "outputId": "c6948ef7-5d23-4e75-92cd-794740a95f9f"
      },
      "execution_count": 147,
      "outputs": [
        {
          "output_type": "stream",
          "name": "stdout",
          "text": [
            "Input a phrasehi\n",
            "HI!\n"
          ]
        }
      ]
    },
    {
      "cell_type": "code",
      "source": [
        "#taking input  from user\n",
        "def yell_it(phrase):\n",
        "  print(phrase.upper()+'!')\n",
        "\n",
        "word = input('Input a phrase\\n')\n",
        "yell_it(word)"
      ],
      "metadata": {
        "colab": {
          "base_uri": "https://localhost:8080/"
        },
        "id": "z6ip5qtPzgIO",
        "outputId": "3d6c67c9-9b90-4f10-e3c0-af8fdc89c4a6"
      },
      "execution_count": 153,
      "outputs": [
        {
          "output_type": "stream",
          "name": "stdout",
          "text": [
            "Input a phrase\n",
            "hi\n",
            "HI!\n"
          ]
        }
      ]
    },
    {
      "cell_type": "code",
      "source": [
        "#Setting a default argument\n",
        "def yell_it_a(phrase = 'hi'):\n",
        "  print(phrase.upper()+'!')\n",
        "\n",
        "word = input('Input a phrase\\n')\n",
        "yell_it_a()"
      ],
      "metadata": {
        "colab": {
          "base_uri": "https://localhost:8080/"
        },
        "id": "wK80H7JOz7yA",
        "outputId": "3bcb6613-1a9c-4265-d286-c102ec37eabe"
      },
      "execution_count": 158,
      "outputs": [
        {
          "output_type": "stream",
          "name": "stdout",
          "text": [
            "Input a phrase\n",
            "hi\n",
            "HI!\n"
          ]
        }
      ]
    },
    {
      "cell_type": "code",
      "source": [
        "#define a function with a return value\n",
        "#create and call make_doctor() with full_name argument from user input - then print the return value\n",
        "\n",
        "def make_doctor(name):\n",
        "  Doctor = print('Dr. ' + name)\n",
        "  return Doctor\n",
        "\n",
        "name = input('Enter Name\\n')\n",
        "make_doctor(name)"
      ],
      "metadata": {
        "colab": {
          "base_uri": "https://localhost:8080/"
        },
        "id": "mu1JPM1B0X81",
        "outputId": "a25aa7cf-fed1-46cf-a882-8c06ac2c59bb"
      },
      "execution_count": 165,
      "outputs": [
        {
          "output_type": "stream",
          "name": "stdout",
          "text": [
            "Enter Name\n",
            "Rauf\n",
            "Dr. Rauf\n"
          ]
        }
      ]
    },
    {
      "cell_type": "markdown",
      "source": [
        "Differences between local and global variables"
      ],
      "metadata": {
        "id": "DiX0-ujS1pzN"
      }
    },
    {
      "cell_type": "code",
      "source": [
        "def alpha():\n",
        "  x = 10\n",
        "  y = 20\n",
        "  return x + y\n",
        "\n",
        "display(alpha())\n",
        "print(x)\n",
        "\n",
        "# X is stored as a different variable in my global enviorment hence different results"
      ],
      "metadata": {
        "colab": {
          "base_uri": "https://localhost:8080/",
          "height": 52
        },
        "id": "8M1qhN2R2taY",
        "outputId": "d742653d-f7c3-4c7f-f406-6ef445d1abb1"
      },
      "execution_count": 174,
      "outputs": [
        {
          "output_type": "display_data",
          "data": {
            "text/plain": [
              "30"
            ]
          },
          "metadata": {}
        },
        {
          "output_type": "stream",
          "name": "stdout",
          "text": [
            "omega\n"
          ]
        }
      ]
    },
    {
      "cell_type": "code",
      "source": [
        ""
      ],
      "metadata": {
        "id": "ioNSJnOv3F_q"
      },
      "execution_count": null,
      "outputs": []
    }
  ]
}